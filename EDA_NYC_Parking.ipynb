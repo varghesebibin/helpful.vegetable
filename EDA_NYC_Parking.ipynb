{
 "cells": [
  {
   "cell_type": "code",
   "execution_count": 6,
   "metadata": {
    "execution": {
     "iopub.execute_input": "2023-03-30T10:18:07.462685Z",
     "iopub.status.busy": "2023-03-30T10:18:07.462242Z",
     "iopub.status.idle": "2023-03-30T10:18:08.365332Z",
     "shell.execute_reply": "2023-03-30T10:18:08.364214Z",
     "shell.execute_reply.started": "2023-03-30T10:18:07.462641Z"
    },
    "tags": []
   },
   "outputs": [
    {
     "data": {
      "application/vnd.jupyter.widget-view+json": {
       "model_id": "ac8b9c19fa95459b8711f244409bec2b",
       "version_major": 2,
       "version_minor": 0
      },
      "text/plain": [
       "VBox()"
      ]
     },
     "metadata": {},
     "output_type": "display_data"
    },
    {
     "data": {
      "application/vnd.jupyter.widget-view+json": {
       "model_id": "",
       "version_major": 2,
       "version_minor": 0
      },
      "text/plain": [
       "FloatProgress(value=0.0, bar_style='info', description='Progress:', layout=Layout(height='25px', width='50%'),…"
      ]
     },
     "metadata": {},
     "output_type": "display_data"
    },
    {
     "name": "stdout",
     "output_type": "stream",
     "text": [
      "<pyspark.sql.session.SparkSession object at 0x7f35dc3fe650>"
     ]
    }
   ],
   "source": [
    "from pyspark.sql import SparkSession\n",
    "spark = SparkSession \\\n",
    "    .builder \\\n",
    "    .appName(\"nyc\") \\\n",
    "    .getOrCreate()\n",
    "spark"
   ]
  },
  {
   "cell_type": "markdown",
   "metadata": {},
   "source": [
    "## Reading Data"
   ]
  },
  {
   "cell_type": "code",
   "execution_count": 7,
   "metadata": {
    "execution": {
     "iopub.execute_input": "2023-03-30T10:18:09.563120Z",
     "iopub.status.busy": "2023-03-30T10:18:09.562677Z",
     "iopub.status.idle": "2023-03-30T10:19:13.135677Z",
     "shell.execute_reply": "2023-03-30T10:19:13.134557Z",
     "shell.execute_reply.started": "2023-03-30T10:18:09.563077Z"
    },
    "tags": []
   },
   "outputs": [
    {
     "data": {
      "application/vnd.jupyter.widget-view+json": {
       "model_id": "d9551b883b9344989a242a189d0d4184",
       "version_major": 2,
       "version_minor": 0
      },
      "text/plain": [
       "VBox()"
      ]
     },
     "metadata": {},
     "output_type": "display_data"
    },
    {
     "data": {
      "application/vnd.jupyter.widget-view+json": {
       "model_id": "",
       "version_major": 2,
       "version_minor": 0
      },
      "text/plain": [
       "FloatProgress(value=0.0, bar_style='info', description='Progress:', layout=Layout(height='25px', width='50%'),…"
      ]
     },
     "metadata": {},
     "output_type": "display_data"
    }
   ],
   "source": [
    "tickets = spark.read.csv('s3a://upgrad-spark-data/Parking_Violations_Issued_-_Fiscal_Year_2017.csv', header = True, inferSchema = True)"
   ]
  },
  {
   "cell_type": "markdown",
   "metadata": {},
   "source": [
    "## Data Exploration"
   ]
  },
  {
   "cell_type": "code",
   "execution_count": 8,
   "metadata": {
    "execution": {
     "iopub.execute_input": "2023-03-30T10:19:13.139070Z",
     "iopub.status.busy": "2023-03-30T10:19:13.137620Z",
     "iopub.status.idle": "2023-03-30T10:19:13.383023Z",
     "shell.execute_reply": "2023-03-30T10:19:13.381113Z",
     "shell.execute_reply.started": "2023-03-30T10:19:13.139021Z"
    },
    "tags": []
   },
   "outputs": [
    {
     "data": {
      "application/vnd.jupyter.widget-view+json": {
       "model_id": "35462289551f4fd3ae85ef2bb3357c48",
       "version_major": 2,
       "version_minor": 0
      },
      "text/plain": [
       "VBox()"
      ]
     },
     "metadata": {},
     "output_type": "display_data"
    },
    {
     "data": {
      "application/vnd.jupyter.widget-view+json": {
       "model_id": "",
       "version_major": 2,
       "version_minor": 0
      },
      "text/plain": [
       "FloatProgress(value=0.0, bar_style='info', description='Progress:', layout=Layout(height='25px', width='50%'),…"
      ]
     },
     "metadata": {},
     "output_type": "display_data"
    },
    {
     "name": "stdout",
     "output_type": "stream",
     "text": [
      "root\n",
      " |-- Summons Number: long (nullable = true)\n",
      " |-- Plate ID: string (nullable = true)\n",
      " |-- Registration State: string (nullable = true)\n",
      " |-- Plate Type: string (nullable = true)\n",
      " |-- Issue Date: string (nullable = true)\n",
      " |-- Violation Code: integer (nullable = true)\n",
      " |-- Vehicle Body Type: string (nullable = true)\n",
      " |-- Vehicle Make: string (nullable = true)\n",
      " |-- Issuing Agency: string (nullable = true)\n",
      " |-- Street Code1: integer (nullable = true)\n",
      " |-- Street Code2: integer (nullable = true)\n",
      " |-- Street Code3: integer (nullable = true)\n",
      " |-- Vehicle Expiration Date: integer (nullable = true)\n",
      " |-- Violation Location: integer (nullable = true)\n",
      " |-- Violation Precinct: integer (nullable = true)\n",
      " |-- Issuer Precinct: integer (nullable = true)\n",
      " |-- Issuer Code: integer (nullable = true)\n",
      " |-- Issuer Command: string (nullable = true)\n",
      " |-- Issuer Squad: string (nullable = true)\n",
      " |-- Violation Time: string (nullable = true)\n",
      " |-- Time First Observed: string (nullable = true)\n",
      " |-- Violation County: string (nullable = true)\n",
      " |-- Violation In Front Of Or Opposite: string (nullable = true)\n",
      " |-- House Number: string (nullable = true)\n",
      " |-- Street Name: string (nullable = true)\n",
      " |-- Intersecting Street: string (nullable = true)\n",
      " |-- Date First Observed: integer (nullable = true)\n",
      " |-- Law Section: integer (nullable = true)\n",
      " |-- Sub Division: string (nullable = true)\n",
      " |-- Violation Legal Code: string (nullable = true)\n",
      " |-- Days Parking In Effect    : string (nullable = true)\n",
      " |-- From Hours In Effect: string (nullable = true)\n",
      " |-- To Hours In Effect: string (nullable = true)\n",
      " |-- Vehicle Color: string (nullable = true)\n",
      " |-- Unregistered Vehicle?: integer (nullable = true)\n",
      " |-- Vehicle Year: integer (nullable = true)\n",
      " |-- Meter Number: string (nullable = true)\n",
      " |-- Feet From Curb: integer (nullable = true)\n",
      " |-- Violation Post Code: string (nullable = true)\n",
      " |-- Violation Description: string (nullable = true)\n",
      " |-- No Standing or Stopping Violation: string (nullable = true)\n",
      " |-- Hydrant Violation: string (nullable = true)\n",
      " |-- Double Parking Violation: string (nullable = true)"
     ]
    }
   ],
   "source": [
    "tickets.printSchema()"
   ]
  },
  {
   "cell_type": "code",
   "execution_count": 9,
   "metadata": {
    "execution": {
     "iopub.execute_input": "2023-03-30T10:19:13.386113Z",
     "iopub.status.busy": "2023-03-30T10:19:13.385712Z",
     "iopub.status.idle": "2023-03-30T10:19:14.409003Z",
     "shell.execute_reply": "2023-03-30T10:19:14.406825Z",
     "shell.execute_reply.started": "2023-03-30T10:19:13.386073Z"
    },
    "tags": []
   },
   "outputs": [
    {
     "data": {
      "application/vnd.jupyter.widget-view+json": {
       "model_id": "ba196559394d417596efc9e695e4afaf",
       "version_major": 2,
       "version_minor": 0
      },
      "text/plain": [
       "VBox()"
      ]
     },
     "metadata": {},
     "output_type": "display_data"
    },
    {
     "data": {
      "application/vnd.jupyter.widget-view+json": {
       "model_id": "",
       "version_major": 2,
       "version_minor": 0
      },
      "text/plain": [
       "FloatProgress(value=0.0, bar_style='info', description='Progress:', layout=Layout(height='25px', width='50%'),…"
      ]
     },
     "metadata": {},
     "output_type": "display_data"
    }
   ],
   "source": [
    "from pyspark.sql.functions import *\n",
    "pattern = 'MM/dd/yyyy'\n",
    "tickets = tickets.withColumn('Issue Date', unix_timestamp(tickets['Issue Date'], pattern).cast('timestamp'))"
   ]
  },
  {
   "cell_type": "code",
   "execution_count": 10,
   "metadata": {
    "execution": {
     "iopub.execute_input": "2023-03-30T10:19:14.412534Z",
     "iopub.status.busy": "2023-03-30T10:19:14.411257Z",
     "iopub.status.idle": "2023-03-30T10:19:14.664030Z",
     "shell.execute_reply": "2023-03-30T10:19:14.663112Z",
     "shell.execute_reply.started": "2023-03-30T10:19:14.412490Z"
    },
    "tags": []
   },
   "outputs": [
    {
     "data": {
      "application/vnd.jupyter.widget-view+json": {
       "model_id": "0e83d3f5a02843819a270d029d9fa3e1",
       "version_major": 2,
       "version_minor": 0
      },
      "text/plain": [
       "VBox()"
      ]
     },
     "metadata": {},
     "output_type": "display_data"
    },
    {
     "data": {
      "application/vnd.jupyter.widget-view+json": {
       "model_id": "",
       "version_major": 2,
       "version_minor": 0
      },
      "text/plain": [
       "FloatProgress(value=0.0, bar_style='info', description='Progress:', layout=Layout(height='25px', width='50%'),…"
      ]
     },
     "metadata": {},
     "output_type": "display_data"
    },
    {
     "name": "stdout",
     "output_type": "stream",
     "text": [
      "root\n",
      " |-- Summons Number: long (nullable = true)\n",
      " |-- Plate ID: string (nullable = true)\n",
      " |-- Registration State: string (nullable = true)\n",
      " |-- Plate Type: string (nullable = true)\n",
      " |-- Issue Date: timestamp (nullable = true)\n",
      " |-- Violation Code: integer (nullable = true)\n",
      " |-- Vehicle Body Type: string (nullable = true)\n",
      " |-- Vehicle Make: string (nullable = true)\n",
      " |-- Issuing Agency: string (nullable = true)\n",
      " |-- Street Code1: integer (nullable = true)\n",
      " |-- Street Code2: integer (nullable = true)\n",
      " |-- Street Code3: integer (nullable = true)\n",
      " |-- Vehicle Expiration Date: integer (nullable = true)\n",
      " |-- Violation Location: integer (nullable = true)\n",
      " |-- Violation Precinct: integer (nullable = true)\n",
      " |-- Issuer Precinct: integer (nullable = true)\n",
      " |-- Issuer Code: integer (nullable = true)\n",
      " |-- Issuer Command: string (nullable = true)\n",
      " |-- Issuer Squad: string (nullable = true)\n",
      " |-- Violation Time: string (nullable = true)\n",
      " |-- Time First Observed: string (nullable = true)\n",
      " |-- Violation County: string (nullable = true)\n",
      " |-- Violation In Front Of Or Opposite: string (nullable = true)\n",
      " |-- House Number: string (nullable = true)\n",
      " |-- Street Name: string (nullable = true)\n",
      " |-- Intersecting Street: string (nullable = true)\n",
      " |-- Date First Observed: integer (nullable = true)\n",
      " |-- Law Section: integer (nullable = true)\n",
      " |-- Sub Division: string (nullable = true)\n",
      " |-- Violation Legal Code: string (nullable = true)\n",
      " |-- Days Parking In Effect    : string (nullable = true)\n",
      " |-- From Hours In Effect: string (nullable = true)\n",
      " |-- To Hours In Effect: string (nullable = true)\n",
      " |-- Vehicle Color: string (nullable = true)\n",
      " |-- Unregistered Vehicle?: integer (nullable = true)\n",
      " |-- Vehicle Year: integer (nullable = true)\n",
      " |-- Meter Number: string (nullable = true)\n",
      " |-- Feet From Curb: integer (nullable = true)\n",
      " |-- Violation Post Code: string (nullable = true)\n",
      " |-- Violation Description: string (nullable = true)\n",
      " |-- No Standing or Stopping Violation: string (nullable = true)\n",
      " |-- Hydrant Violation: string (nullable = true)\n",
      " |-- Double Parking Violation: string (nullable = true)"
     ]
    }
   ],
   "source": [
    "tickets.printSchema()"
   ]
  },
  {
   "cell_type": "code",
   "execution_count": 11,
   "metadata": {
    "execution": {
     "iopub.execute_input": "2023-03-30T10:19:14.665751Z",
     "iopub.status.busy": "2023-03-30T10:19:14.665390Z",
     "iopub.status.idle": "2023-03-30T10:19:17.364916Z",
     "shell.execute_reply": "2023-03-30T10:19:17.363674Z",
     "shell.execute_reply.started": "2023-03-30T10:19:14.665713Z"
    },
    "tags": []
   },
   "outputs": [
    {
     "data": {
      "application/vnd.jupyter.widget-view+json": {
       "model_id": "ed60756ca4cd4463bc19ed60acb70211",
       "version_major": 2,
       "version_minor": 0
      },
      "text/plain": [
       "VBox()"
      ]
     },
     "metadata": {},
     "output_type": "display_data"
    },
    {
     "data": {
      "application/vnd.jupyter.widget-view+json": {
       "model_id": "",
       "version_major": 2,
       "version_minor": 0
      },
      "text/plain": [
       "FloatProgress(value=0.0, bar_style='info', description='Progress:', layout=Layout(height='25px', width='50%'),…"
      ]
     },
     "metadata": {},
     "output_type": "display_data"
    },
    {
     "name": "stdout",
     "output_type": "stream",
     "text": [
      "+-------------------+\n",
      "|         Issue Date|\n",
      "+-------------------+\n",
      "|2016-07-10 00:00:00|\n",
      "|2016-07-08 00:00:00|\n",
      "|2016-08-23 00:00:00|\n",
      "|2017-06-14 00:00:00|\n",
      "|2016-11-21 00:00:00|\n",
      "|2017-06-13 00:00:00|\n",
      "|2016-08-03 00:00:00|\n",
      "|2016-12-21 00:00:00|\n",
      "|2016-11-21 00:00:00|\n",
      "|2016-10-05 00:00:00|\n",
      "|2017-01-11 00:00:00|\n",
      "|2016-09-27 00:00:00|\n",
      "|2016-10-27 00:00:00|\n",
      "|2016-09-30 00:00:00|\n",
      "|2017-02-04 00:00:00|\n",
      "|2016-07-07 00:00:00|\n",
      "|2016-09-24 00:00:00|\n",
      "|2017-01-26 00:00:00|\n",
      "|2017-04-30 00:00:00|\n",
      "|2017-02-03 00:00:00|\n",
      "+-------------------+\n",
      "only showing top 20 rows"
     ]
    }
   ],
   "source": [
    "tickets.select('Issue Date').show()"
   ]
  },
  {
   "cell_type": "code",
   "execution_count": 12,
   "metadata": {
    "execution": {
     "iopub.execute_input": "2023-03-30T10:19:31.548375Z",
     "iopub.status.busy": "2023-03-30T10:19:31.548025Z",
     "iopub.status.idle": "2023-03-30T10:19:31.779134Z",
     "shell.execute_reply": "2023-03-30T10:19:31.778206Z",
     "shell.execute_reply.started": "2023-03-30T10:19:31.548345Z"
    },
    "tags": []
   },
   "outputs": [
    {
     "data": {
      "application/vnd.jupyter.widget-view+json": {
       "model_id": "75639f1aae7e401c8b6e9285c3d79ef7",
       "version_major": 2,
       "version_minor": 0
      },
      "text/plain": [
       "VBox()"
      ]
     },
     "metadata": {},
     "output_type": "display_data"
    },
    {
     "data": {
      "application/vnd.jupyter.widget-view+json": {
       "model_id": "",
       "version_major": 2,
       "version_minor": 0
      },
      "text/plain": [
       "FloatProgress(value=0.0, bar_style='info', description='Progress:', layout=Layout(height='25px', width='50%'),…"
      ]
     },
     "metadata": {},
     "output_type": "display_data"
    }
   ],
   "source": [
    "tickets_2017 = tickets.filter(year(tickets['Issue Date'])==2017)"
   ]
  },
  {
   "cell_type": "code",
   "execution_count": 13,
   "metadata": {
    "execution": {
     "iopub.execute_input": "2023-03-30T10:19:34.413760Z",
     "iopub.status.busy": "2023-03-30T10:19:34.409861Z",
     "iopub.status.idle": "2023-03-30T10:19:37.165583Z",
     "shell.execute_reply": "2023-03-30T10:19:37.117751Z",
     "shell.execute_reply.started": "2023-03-30T10:19:34.413612Z"
    },
    "tags": []
   },
   "outputs": [
    {
     "data": {
      "application/vnd.jupyter.widget-view+json": {
       "model_id": "6211df4998ea49c58f59e7ed1230e810",
       "version_major": 2,
       "version_minor": 0
      },
      "text/plain": [
       "VBox()"
      ]
     },
     "metadata": {},
     "output_type": "display_data"
    },
    {
     "data": {
      "application/vnd.jupyter.widget-view+json": {
       "model_id": "",
       "version_major": 2,
       "version_minor": 0
      },
      "text/plain": [
       "FloatProgress(value=0.0, bar_style='info', description='Progress:', layout=Layout(height='25px', width='50%'),…"
      ]
     },
     "metadata": {},
     "output_type": "display_data"
    },
    {
     "name": "stdout",
     "output_type": "stream",
     "text": [
      "+-------------------+\n",
      "|         Issue Date|\n",
      "+-------------------+\n",
      "|2017-06-14 00:00:00|\n",
      "|2017-06-13 00:00:00|\n",
      "|2017-01-11 00:00:00|\n",
      "|2017-02-04 00:00:00|\n",
      "|2017-01-26 00:00:00|\n",
      "|2017-04-30 00:00:00|\n",
      "|2017-02-03 00:00:00|\n",
      "|2017-05-27 00:00:00|\n",
      "|2017-05-31 00:00:00|\n",
      "|2017-05-26 00:00:00|\n",
      "|2017-05-19 00:00:00|\n",
      "|2017-06-09 00:00:00|\n",
      "|2017-01-20 00:00:00|\n",
      "|2017-04-13 00:00:00|\n",
      "|2017-01-05 00:00:00|\n",
      "|2017-02-18 00:00:00|\n",
      "|2017-06-14 00:00:00|\n",
      "|2017-01-29 00:00:00|\n",
      "|2017-01-25 00:00:00|\n",
      "|2017-06-12 00:00:00|\n",
      "+-------------------+\n",
      "only showing top 20 rows"
     ]
    }
   ],
   "source": [
    "tickets_2017.select('Issue Date').show()"
   ]
  },
  {
   "cell_type": "code",
   "execution_count": 14,
   "metadata": {
    "execution": {
     "iopub.execute_input": "2023-03-30T10:20:04.348809Z",
     "iopub.status.busy": "2023-03-30T10:20:04.348470Z",
     "iopub.status.idle": "2023-03-30T10:20:56.627880Z",
     "shell.execute_reply": "2023-03-30T10:20:56.626831Z",
     "shell.execute_reply.started": "2023-03-30T10:20:04.348779Z"
    },
    "tags": []
   },
   "outputs": [
    {
     "data": {
      "application/vnd.jupyter.widget-view+json": {
       "model_id": "7b1cca5fd0604765b04f73bab3c7cb6e",
       "version_major": 2,
       "version_minor": 0
      },
      "text/plain": [
       "VBox()"
      ]
     },
     "metadata": {},
     "output_type": "display_data"
    },
    {
     "data": {
      "application/vnd.jupyter.widget-view+json": {
       "model_id": "",
       "version_major": 2,
       "version_minor": 0
      },
      "text/plain": [
       "FloatProgress(value=0.0, bar_style='info', description='Progress:', layout=Layout(height='25px', width='50%'),…"
      ]
     },
     "metadata": {},
     "output_type": "display_data"
    },
    {
     "name": "stdout",
     "output_type": "stream",
     "text": [
      "5431918"
     ]
    }
   ],
   "source": [
    "# 1. Find the total number of tickets issued in the year 2017\n",
    "tickets_2017.count()"
   ]
  },
  {
   "cell_type": "code",
   "execution_count": 15,
   "metadata": {
    "execution": {
     "iopub.execute_input": "2023-03-30T10:20:56.633346Z",
     "iopub.status.busy": "2023-03-30T10:20:56.632997Z",
     "iopub.status.idle": "2023-03-30T10:20:57.026006Z",
     "shell.execute_reply": "2023-03-30T10:20:57.024913Z",
     "shell.execute_reply.started": "2023-03-30T10:20:56.633316Z"
    },
    "tags": []
   },
   "outputs": [
    {
     "data": {
      "application/vnd.jupyter.widget-view+json": {
       "model_id": "6d02dec512a442e9b83833c2502ea634",
       "version_major": 2,
       "version_minor": 0
      },
      "text/plain": [
       "VBox()"
      ]
     },
     "metadata": {},
     "output_type": "display_data"
    },
    {
     "data": {
      "application/vnd.jupyter.widget-view+json": {
       "model_id": "",
       "version_major": 2,
       "version_minor": 0
      },
      "text/plain": [
       "FloatProgress(value=0.0, bar_style='info', description='Progress:', layout=Layout(height='25px', width='50%'),…"
      ]
     },
     "metadata": {},
     "output_type": "display_data"
    }
   ],
   "source": [
    "# For using SQL, you need to create a temporary view\n",
    "tickets_2017.createOrReplaceTempView(\"data_2017\")"
   ]
  },
  {
   "cell_type": "code",
   "execution_count": 16,
   "metadata": {
    "execution": {
     "iopub.execute_input": "2023-03-30T10:20:57.028539Z",
     "iopub.status.busy": "2023-03-30T10:20:57.028059Z",
     "iopub.status.idle": "2023-03-30T10:21:53.494852Z",
     "shell.execute_reply": "2023-03-30T10:21:53.493704Z",
     "shell.execute_reply.started": "2023-03-30T10:20:57.028494Z"
    },
    "tags": []
   },
   "outputs": [
    {
     "data": {
      "application/vnd.jupyter.widget-view+json": {
       "model_id": "5e693e3c2bcc4a85820cdc0468fe4b54",
       "version_major": 2,
       "version_minor": 0
      },
      "text/plain": [
       "VBox()"
      ]
     },
     "metadata": {},
     "output_type": "display_data"
    },
    {
     "data": {
      "application/vnd.jupyter.widget-view+json": {
       "model_id": "",
       "version_major": 2,
       "version_minor": 0
      },
      "text/plain": [
       "FloatProgress(value=0.0, bar_style='info', description='Progress:', layout=Layout(height='25px', width='50%'),…"
      ]
     },
     "metadata": {},
     "output_type": "display_data"
    },
    {
     "name": "stdout",
     "output_type": "stream",
     "text": [
      "+-----+\n",
      "|count|\n",
      "+-----+\n",
      "|   65|\n",
      "+-----+"
     ]
    }
   ],
   "source": [
    "# 2. Find out the number of unique states from where the cars \n",
    "# that got parking tickets came from. (Hint: Use 'Registration State')\n",
    "spark.sql(\"\"\" SELECT count(DISTINCT `Registration State`) AS count \\\n",
    "                FROM data_2017 \\\n",
    "                \"\"\").show()"
   ]
  },
  {
   "cell_type": "code",
   "execution_count": 17,
   "metadata": {
    "execution": {
     "iopub.execute_input": "2023-03-30T10:21:53.499938Z",
     "iopub.status.busy": "2023-03-30T10:21:53.499496Z",
     "iopub.status.idle": "2023-03-30T10:22:34.061937Z",
     "shell.execute_reply": "2023-03-30T10:22:34.060843Z",
     "shell.execute_reply.started": "2023-03-30T10:21:53.499881Z"
    }
   },
   "outputs": [
    {
     "data": {
      "application/vnd.jupyter.widget-view+json": {
       "model_id": "3bd8d3e480964e4bad3e1ac9153e44b1",
       "version_major": 2,
       "version_minor": 0
      },
      "text/plain": [
       "VBox()"
      ]
     },
     "metadata": {},
     "output_type": "display_data"
    },
    {
     "data": {
      "application/vnd.jupyter.widget-view+json": {
       "model_id": "",
       "version_major": 2,
       "version_minor": 0
      },
      "text/plain": [
       "FloatProgress(value=0.0, bar_style='info', description='Progress:', layout=Layout(height='25px', width='50%'),…"
      ]
     },
     "metadata": {},
     "output_type": "display_data"
    },
    {
     "name": "stdout",
     "output_type": "stream",
     "text": [
      "+------------------+-------+\n",
      "|Registration State|  count|\n",
      "+------------------+-------+\n",
      "|                NY|4273951|\n",
      "|                NJ| 475825|\n",
      "|                PA| 140286|\n",
      "|                CT|  70403|\n",
      "|                FL|  69468|\n",
      "|                IN|  45525|\n",
      "|                MA|  38941|\n",
      "|                VA|  34367|\n",
      "|                MD|  30213|\n",
      "|                NC|  27152|\n",
      "|                TX|  18827|\n",
      "|                IL|  18666|\n",
      "|                GA|  17537|\n",
      "|                99|  16055|\n",
      "|                AZ|  12379|\n",
      "|                OH|  12281|\n",
      "|                CA|  12153|\n",
      "|                ME|  10806|\n",
      "|                SC|  10395|\n",
      "|                MN|  10083|\n",
      "+------------------+-------+\n",
      "only showing top 20 rows"
     ]
    }
   ],
   "source": [
    "# Arranging the dataframe based on number of entries\n",
    "spark.sql(\"\"\"\n",
    "SELECT `Registration State`, count(*) As count \\\n",
    "FROM data_2017 \\\n",
    "GROUP BY `Registration State` \\\n",
    "ORDER BY count DESC\n",
    "\"\"\").show()"
   ]
  },
  {
   "cell_type": "code",
   "execution_count": 18,
   "metadata": {
    "execution": {
     "iopub.execute_input": "2023-03-30T10:22:34.071954Z",
     "iopub.status.busy": "2023-03-30T10:22:34.065171Z",
     "iopub.status.idle": "2023-03-30T10:22:34.286880Z",
     "shell.execute_reply": "2023-03-30T10:22:34.285262Z",
     "shell.execute_reply.started": "2023-03-30T10:22:34.071889Z"
    },
    "tags": []
   },
   "outputs": [
    {
     "data": {
      "application/vnd.jupyter.widget-view+json": {
       "model_id": "5a9222a59bfb4f7ca61e17c6e6ede372",
       "version_major": 2,
       "version_minor": 0
      },
      "text/plain": [
       "VBox()"
      ]
     },
     "metadata": {},
     "output_type": "display_data"
    },
    {
     "data": {
      "application/vnd.jupyter.widget-view+json": {
       "model_id": "",
       "version_major": 2,
       "version_minor": 0
      },
      "text/plain": [
       "FloatProgress(value=0.0, bar_style='info', description='Progress:', layout=Layout(height='25px', width='50%'),…"
      ]
     },
     "metadata": {},
     "output_type": "display_data"
    }
   ],
   "source": [
    "#Replacing '99' with 'NY' in the dataframe\n",
    "from pyspark.sql import functions as F\n",
    "tickets_2017_new = tickets_2017.withColumn('Registration State', F.when(tickets_2017['Registration State']=='99', 'NY')\\\n",
    "                                           .otherwise(tickets_2017['Registration State']))"
   ]
  },
  {
   "cell_type": "code",
   "execution_count": 19,
   "metadata": {
    "execution": {
     "iopub.execute_input": "2023-03-30T10:22:34.291989Z",
     "iopub.status.busy": "2023-03-30T10:22:34.291685Z",
     "iopub.status.idle": "2023-03-30T10:22:34.570263Z",
     "shell.execute_reply": "2023-03-30T10:22:34.569009Z",
     "shell.execute_reply.started": "2023-03-30T10:22:34.291961Z"
    },
    "tags": []
   },
   "outputs": [
    {
     "data": {
      "application/vnd.jupyter.widget-view+json": {
       "model_id": "f586da4fd9454d57a72a625d96c5b558",
       "version_major": 2,
       "version_minor": 0
      },
      "text/plain": [
       "VBox()"
      ]
     },
     "metadata": {},
     "output_type": "display_data"
    },
    {
     "data": {
      "application/vnd.jupyter.widget-view+json": {
       "model_id": "",
       "version_major": 2,
       "version_minor": 0
      },
      "text/plain": [
       "FloatProgress(value=0.0, bar_style='info', description='Progress:', layout=Layout(height='25px', width='50%'),…"
      ]
     },
     "metadata": {},
     "output_type": "display_data"
    }
   ],
   "source": [
    "# The temporary view needs to be recreated as values have been updated in tickets_2017_new\n",
    "tickets_2017_new.createOrReplaceTempView(\"data_2017_new\")"
   ]
  },
  {
   "cell_type": "code",
   "execution_count": 20,
   "metadata": {
    "execution": {
     "iopub.execute_input": "2023-03-30T10:22:34.572408Z",
     "iopub.status.busy": "2023-03-30T10:22:34.572051Z",
     "iopub.status.idle": "2023-03-30T10:23:26.856373Z",
     "shell.execute_reply": "2023-03-30T10:23:26.855452Z",
     "shell.execute_reply.started": "2023-03-30T10:22:34.572367Z"
    },
    "tags": []
   },
   "outputs": [
    {
     "data": {
      "application/vnd.jupyter.widget-view+json": {
       "model_id": "33f6bf5e3f304a7b9e105f3d078b35eb",
       "version_major": 2,
       "version_minor": 0
      },
      "text/plain": [
       "VBox()"
      ]
     },
     "metadata": {},
     "output_type": "display_data"
    },
    {
     "data": {
      "application/vnd.jupyter.widget-view+json": {
       "model_id": "",
       "version_major": 2,
       "version_minor": 0
      },
      "text/plain": [
       "FloatProgress(value=0.0, bar_style='info', description='Progress:', layout=Layout(height='25px', width='50%'),…"
      ]
     },
     "metadata": {},
     "output_type": "display_data"
    },
    {
     "name": "stdout",
     "output_type": "stream",
     "text": [
      "+------------------+-------+\n",
      "|Registration State|  count|\n",
      "+------------------+-------+\n",
      "|                NY|4290006|\n",
      "|                NJ| 475825|\n",
      "|                PA| 140286|\n",
      "|                CT|  70403|\n",
      "|                FL|  69468|\n",
      "|                IN|  45525|\n",
      "|                MA|  38941|\n",
      "|                VA|  34367|\n",
      "|                MD|  30213|\n",
      "|                NC|  27152|\n",
      "|                TX|  18827|\n",
      "|                IL|  18666|\n",
      "|                GA|  17537|\n",
      "|                AZ|  12379|\n",
      "|                OH|  12281|\n",
      "|                CA|  12153|\n",
      "|                ME|  10806|\n",
      "|                SC|  10395|\n",
      "|                MN|  10083|\n",
      "|                OK|   9088|\n",
      "+------------------+-------+\n",
      "only showing top 20 rows"
     ]
    }
   ],
   "source": [
    "spark.sql(\n",
    "\"\"\" SELECT `Registration State`, count(*) AS count \\\n",
    "    FROM data_2017_new \\\n",
    "    GROUP BY `Registration State` \\\n",
    "    ORDER BY count DESC\n",
    "    \"\"\").show()"
   ]
  },
  {
   "cell_type": "code",
   "execution_count": 22,
   "metadata": {
    "execution": {
     "iopub.execute_input": "2023-03-30T10:24:13.320554Z",
     "iopub.status.busy": "2023-03-30T10:24:13.320268Z",
     "iopub.status.idle": "2023-03-30T10:24:53.671150Z",
     "shell.execute_reply": "2023-03-30T10:24:53.670158Z",
     "shell.execute_reply.started": "2023-03-30T10:24:13.320526Z"
    },
    "tags": []
   },
   "outputs": [
    {
     "data": {
      "application/vnd.jupyter.widget-view+json": {
       "model_id": "b09a5013d7d24c889b841cc7643e1d8b",
       "version_major": 2,
       "version_minor": 0
      },
      "text/plain": [
       "VBox()"
      ]
     },
     "metadata": {},
     "output_type": "display_data"
    },
    {
     "data": {
      "application/vnd.jupyter.widget-view+json": {
       "model_id": "",
       "version_major": 2,
       "version_minor": 0
      },
      "text/plain": [
       "FloatProgress(value=0.0, bar_style='info', description='Progress:', layout=Layout(height='25px', width='50%'),…"
      ]
     },
     "metadata": {},
     "output_type": "display_data"
    },
    {
     "name": "stdout",
     "output_type": "stream",
     "text": [
      "+-----+\n",
      "|count|\n",
      "+-----+\n",
      "|   64|\n",
      "+-----+"
     ]
    }
   ],
   "source": [
    "# Find out the number of unique states from where the cars \n",
    "# that got parking tickets came from. (Hint: Use 'Registration State')\n",
    "spark.sql(\"\"\" SELECT count(DISTINCT `Registration State`) AS count \\\n",
    "                FROM data_2017_new \\\n",
    "                \"\"\").show()"
   ]
  },
  {
   "cell_type": "markdown",
   "metadata": {},
   "source": [
    "## Aggregation Tasks"
   ]
  },
  {
   "cell_type": "raw",
   "metadata": {},
   "source": [
    "### 1. How often does each violation code occur? Display the frequency of the top five violation codes."
   ]
  },
  {
   "cell_type": "raw",
   "metadata": {},
   "source": [
    "#### Since we haven't made in changes in the dataframe or the temporary view, we can use the same view for analysis."
   ]
  },
  {
   "cell_type": "code",
   "execution_count": 23,
   "metadata": {
    "execution": {
     "iopub.execute_input": "2023-03-30T10:24:53.673461Z",
     "iopub.status.busy": "2023-03-30T10:24:53.672906Z",
     "iopub.status.idle": "2023-03-30T10:26:10.972149Z",
     "shell.execute_reply": "2023-03-30T10:26:10.970745Z",
     "shell.execute_reply.started": "2023-03-30T10:24:53.673423Z"
    },
    "tags": []
   },
   "outputs": [
    {
     "data": {
      "application/vnd.jupyter.widget-view+json": {
       "model_id": "24046af2a6d840c58be7ad0ecfab0a24",
       "version_major": 2,
       "version_minor": 0
      },
      "text/plain": [
       "VBox()"
      ]
     },
     "metadata": {},
     "output_type": "display_data"
    },
    {
     "data": {
      "application/vnd.jupyter.widget-view+json": {
       "model_id": "",
       "version_major": 2,
       "version_minor": 0
      },
      "text/plain": [
       "FloatProgress(value=0.0, bar_style='info', description='Progress:', layout=Layout(height='25px', width='50%'),…"
      ]
     },
     "metadata": {},
     "output_type": "display_data"
    },
    {
     "name": "stdout",
     "output_type": "stream",
     "text": [
      "+--------------+------+\n",
      "|Violation Code| count|\n",
      "+--------------+------+\n",
      "|            21|768087|\n",
      "|            36|662765|\n",
      "|            38|542079|\n",
      "|            14|476664|\n",
      "|            20|319646|\n",
      "+--------------+------+"
     ]
    }
   ],
   "source": [
    "spark.sql('''\n",
    "\n",
    "SELECT `Violation Code`, count(*) AS count \\\n",
    "FROM data_2017_new \\\n",
    "GROUP BY `Violation Code` \\\n",
    "ORDER BY count DESC \\\n",
    "LIMIT 5\n",
    "''').show()"
   ]
  },
  {
   "cell_type": "raw",
   "metadata": {},
   "source": [
    "### 2. How often does each 'vehicle body type' get a parking ticket? How about the 'vehicle make'? Find the top 5 for both."
   ]
  },
  {
   "cell_type": "code",
   "execution_count": 24,
   "metadata": {
    "execution": {
     "iopub.execute_input": "2023-03-30T10:26:10.973849Z",
     "iopub.status.busy": "2023-03-30T10:26:10.973489Z",
     "iopub.status.idle": "2023-03-30T10:26:51.373916Z",
     "shell.execute_reply": "2023-03-30T10:26:51.372218Z",
     "shell.execute_reply.started": "2023-03-30T10:26:10.973809Z"
    },
    "tags": []
   },
   "outputs": [
    {
     "data": {
      "application/vnd.jupyter.widget-view+json": {
       "model_id": "6cee7023a610430c85ca4acd954c6e30",
       "version_major": 2,
       "version_minor": 0
      },
      "text/plain": [
       "VBox()"
      ]
     },
     "metadata": {},
     "output_type": "display_data"
    },
    {
     "data": {
      "application/vnd.jupyter.widget-view+json": {
       "model_id": "",
       "version_major": 2,
       "version_minor": 0
      },
      "text/plain": [
       "FloatProgress(value=0.0, bar_style='info', description='Progress:', layout=Layout(height='25px', width='50%'),…"
      ]
     },
     "metadata": {},
     "output_type": "display_data"
    },
    {
     "name": "stdout",
     "output_type": "stream",
     "text": [
      "+-----------------+-------+\n",
      "|Vehicle Body Type|  count|\n",
      "+-----------------+-------+\n",
      "|             SUBN|1883954|\n",
      "|             4DSD|1547312|\n",
      "|              VAN| 724029|\n",
      "|             DELV| 358984|\n",
      "|              SDN| 194197|\n",
      "+-----------------+-------+"
     ]
    }
   ],
   "source": [
    "spark.sql('''\n",
    "\n",
    "SELECT `Vehicle Body Type`, count(*) AS count \\\n",
    "FROM data_2017_new \\\n",
    "GROUP BY `Vehicle Body Type` \\\n",
    "ORDER BY count DESC \\\n",
    "LIMIT 5\n",
    "''').show()"
   ]
  },
  {
   "cell_type": "code",
   "execution_count": 25,
   "metadata": {
    "execution": {
     "iopub.execute_input": "2023-03-30T10:26:51.375796Z",
     "iopub.status.busy": "2023-03-30T10:26:51.375292Z",
     "iopub.status.idle": "2023-03-30T10:27:40.199334Z",
     "shell.execute_reply": "2023-03-30T10:27:40.198163Z",
     "shell.execute_reply.started": "2023-03-30T10:26:51.375754Z"
    },
    "tags": []
   },
   "outputs": [
    {
     "data": {
      "application/vnd.jupyter.widget-view+json": {
       "model_id": "d306bd7f0fed424cb22abcd8b21b6624",
       "version_major": 2,
       "version_minor": 0
      },
      "text/plain": [
       "VBox()"
      ]
     },
     "metadata": {},
     "output_type": "display_data"
    },
    {
     "data": {
      "application/vnd.jupyter.widget-view+json": {
       "model_id": "",
       "version_major": 2,
       "version_minor": 0
      },
      "text/plain": [
       "FloatProgress(value=0.0, bar_style='info', description='Progress:', layout=Layout(height='25px', width='50%'),…"
      ]
     },
     "metadata": {},
     "output_type": "display_data"
    },
    {
     "name": "stdout",
     "output_type": "stream",
     "text": [
      "+------------+------+\n",
      "|Vehicle Make| count|\n",
      "+------------+------+\n",
      "|        FORD|636844|\n",
      "|       TOYOT|605291|\n",
      "|       HONDA|538884|\n",
      "|       NISSA|462017|\n",
      "|       CHEVR|356032|\n",
      "+------------+------+"
     ]
    }
   ],
   "source": [
    "spark.sql('''\n",
    "\n",
    "SELECT `Vehicle Make`, count(*) AS count \\\n",
    "FROM data_2017_new \\\n",
    "GROUP BY `Vehicle Make` \\\n",
    "ORDER BY count DESC \\\n",
    "LIMIT 5\n",
    "''').show()"
   ]
  },
  {
   "cell_type": "raw",
   "metadata": {},
   "source": [
    "### 3. Seasonality\n",
    "This can be done in different ways\n",
    "Seasonality can be defined month-wise, or season-wise (3 months)\n",
    "We have performed based on the seasons - Summer, Winter, Spring and Autumn"
   ]
  },
  {
   "cell_type": "code",
   "execution_count": 26,
   "metadata": {
    "execution": {
     "iopub.execute_input": "2023-03-30T10:27:40.201575Z",
     "iopub.status.busy": "2023-03-30T10:27:40.201000Z",
     "iopub.status.idle": "2023-03-30T10:27:41.240820Z",
     "shell.execute_reply": "2023-03-30T10:27:41.239632Z",
     "shell.execute_reply.started": "2023-03-30T10:27:40.201535Z"
    },
    "tags": []
   },
   "outputs": [
    {
     "data": {
      "application/vnd.jupyter.widget-view+json": {
       "model_id": "fb2c628743694fbfac256d0c05c54773",
       "version_major": 2,
       "version_minor": 0
      },
      "text/plain": [
       "VBox()"
      ]
     },
     "metadata": {},
     "output_type": "display_data"
    },
    {
     "data": {
      "application/vnd.jupyter.widget-view+json": {
       "model_id": "",
       "version_major": 2,
       "version_minor": 0
      },
      "text/plain": [
       "FloatProgress(value=0.0, bar_style='info', description='Progress:', layout=Layout(height='25px', width='50%'),…"
      ]
     },
     "metadata": {},
     "output_type": "display_data"
    },
    {
     "name": "stdout",
     "output_type": "stream",
     "text": [
      "+--------------+-------------------+------+\n",
      "|Violation Code|         Issue Date|season|\n",
      "+--------------+-------------------+------+\n",
      "|            47|2017-06-14 00:00:00|summer|\n",
      "|             7|2017-06-13 00:00:00|summer|\n",
      "|            78|2017-01-11 00:00:00|winter|\n",
      "|            40|2017-02-04 00:00:00|winter|\n",
      "|            64|2017-01-26 00:00:00|winter|\n",
      "|            20|2017-04-30 00:00:00|spring|\n",
      "|            36|2017-02-03 00:00:00|winter|\n",
      "|            38|2017-05-27 00:00:00|spring|\n",
      "|            14|2017-05-31 00:00:00|spring|\n",
      "|            75|2017-05-26 00:00:00|spring|\n",
      "|            10|2017-05-19 00:00:00|spring|\n",
      "|            69|2017-06-09 00:00:00|summer|\n",
      "|            21|2017-01-20 00:00:00|winter|\n",
      "|            38|2017-04-13 00:00:00|spring|\n",
      "|            48|2017-01-05 00:00:00|winter|\n",
      "|            21|2017-02-18 00:00:00|winter|\n",
      "|            21|2017-06-14 00:00:00|summer|\n",
      "|            68|2017-01-29 00:00:00|winter|\n",
      "|            51|2017-01-25 00:00:00|winter|\n",
      "|             9|2017-06-12 00:00:00|summer|\n",
      "+--------------+-------------------+------+\n",
      "only showing top 20 rows"
     ]
    }
   ],
   "source": [
    "tickets_seasonality = spark.sql('''select `Violation Code`, `Issue Date`, case\n",
    "                                  when month(to_date(`Issue Date`, 'MM/dd/yyyy')) between 03 and 05\n",
    "                                  then 'spring'\n",
    "                                  when month(to_date(`Issue Date`, 'MM/dd/yyyy')) between 06 and 08\n",
    "                                  then 'summer'\n",
    "                                  when month(to_date(`Issue Date`, 'MM/dd/yyyy')) between 09 and 11\n",
    "                                  then 'autumn'\n",
    "                                  when month(to_date(`Issue Date`, 'MM/dd/yyyy')) in (1,2,12)\n",
    "                                  then 'winter'\n",
    "                                  else 'unknown'\n",
    "                                  end as season\n",
    "                                  from data_2017_new''')\n",
    "tickets_seasonality.show()"
   ]
  },
  {
   "cell_type": "code",
   "execution_count": 27,
   "metadata": {
    "execution": {
     "iopub.execute_input": "2023-03-30T10:27:41.244911Z",
     "iopub.status.busy": "2023-03-30T10:27:41.244320Z",
     "iopub.status.idle": "2023-03-30T10:27:41.525202Z",
     "shell.execute_reply": "2023-03-30T10:27:41.520784Z",
     "shell.execute_reply.started": "2023-03-30T10:27:41.244879Z"
    },
    "tags": []
   },
   "outputs": [
    {
     "data": {
      "application/vnd.jupyter.widget-view+json": {
       "model_id": "e4a184097cf240eda3b56e9d7811a4b1",
       "version_major": 2,
       "version_minor": 0
      },
      "text/plain": [
       "VBox()"
      ]
     },
     "metadata": {},
     "output_type": "display_data"
    },
    {
     "data": {
      "application/vnd.jupyter.widget-view+json": {
       "model_id": "",
       "version_major": 2,
       "version_minor": 0
      },
      "text/plain": [
       "FloatProgress(value=0.0, bar_style='info', description='Progress:', layout=Layout(height='25px', width='50%'),…"
      ]
     },
     "metadata": {},
     "output_type": "display_data"
    }
   ],
   "source": [
    "# For using SQL, you need to create a temporary view\n",
    "tickets_seasonality.createOrReplaceTempView('seasonal_data')"
   ]
  },
  {
   "cell_type": "code",
   "execution_count": 28,
   "metadata": {
    "execution": {
     "iopub.execute_input": "2023-03-30T10:27:41.533440Z",
     "iopub.status.busy": "2023-03-30T10:27:41.531887Z",
     "iopub.status.idle": "2023-03-30T10:28:28.106242Z",
     "shell.execute_reply": "2023-03-30T10:28:28.105394Z",
     "shell.execute_reply.started": "2023-03-30T10:27:41.533376Z"
    },
    "tags": []
   },
   "outputs": [
    {
     "data": {
      "application/vnd.jupyter.widget-view+json": {
       "model_id": "bc1fe4b10ffa40a3833df0ab469039d4",
       "version_major": 2,
       "version_minor": 0
      },
      "text/plain": [
       "VBox()"
      ]
     },
     "metadata": {},
     "output_type": "display_data"
    },
    {
     "data": {
      "application/vnd.jupyter.widget-view+json": {
       "model_id": "",
       "version_major": 2,
       "version_minor": 0
      },
      "text/plain": [
       "FloatProgress(value=0.0, bar_style='info', description='Progress:', layout=Layout(height='25px', width='50%'),…"
      ]
     },
     "metadata": {},
     "output_type": "display_data"
    },
    {
     "name": "stdout",
     "output_type": "stream",
     "text": [
      "+------+-------------+\n",
      "|season|No_of_tickets|\n",
      "+------+-------------+\n",
      "|spring|      2873383|\n",
      "|winter|      1704690|\n",
      "|summer|       852866|\n",
      "|autumn|          979|\n",
      "+------+-------------+"
     ]
    }
   ],
   "source": [
    "# Grouping tickets by season\n",
    "spark.sql(\n",
    "\"\"\"\n",
    "SELECT season, count(*) as No_of_tickets\n",
    "FROM seasonal_data\n",
    "GROUP BY season\n",
    "ORDER BY No_of_tickets DESC\n",
    "\"\"\"\n",
    ").show()"
   ]
  },
  {
   "cell_type": "code",
   "execution_count": 29,
   "metadata": {
    "execution": {
     "iopub.execute_input": "2023-03-30T10:28:28.108145Z",
     "iopub.status.busy": "2023-03-30T10:28:28.107811Z",
     "iopub.status.idle": "2023-03-30T10:29:10.258587Z",
     "shell.execute_reply": "2023-03-30T10:29:10.257423Z",
     "shell.execute_reply.started": "2023-03-30T10:28:28.108106Z"
    },
    "tags": []
   },
   "outputs": [
    {
     "data": {
      "application/vnd.jupyter.widget-view+json": {
       "model_id": "a790052baba54edb9f1306bfa3ffca13",
       "version_major": 2,
       "version_minor": 0
      },
      "text/plain": [
       "VBox()"
      ]
     },
     "metadata": {},
     "output_type": "display_data"
    },
    {
     "data": {
      "application/vnd.jupyter.widget-view+json": {
       "model_id": "",
       "version_major": 2,
       "version_minor": 0
      },
      "text/plain": [
       "FloatProgress(value=0.0, bar_style='info', description='Progress:', layout=Layout(height='25px', width='50%'),…"
      ]
     },
     "metadata": {},
     "output_type": "display_data"
    },
    {
     "name": "stdout",
     "output_type": "stream",
     "text": [
      "+------+--------------+-------------+\n",
      "|season|Violation Code|No_of_tickets|\n",
      "+------+--------------+-------------+\n",
      "|spring|            21|       402424|\n",
      "|spring|            36|       344834|\n",
      "|spring|            38|       271167|\n",
      "+------+--------------+-------------+"
     ]
    }
   ],
   "source": [
    "#Spring\n",
    "spark.sql(\n",
    "\"\"\"\n",
    "SELECT season, `Violation Code`, count(*) as No_of_tickets\n",
    "FROM seasonal_data\n",
    "WHERE season = 'spring'\n",
    "GROUP BY season, `Violation Code`\n",
    "ORDER BY No_of_tickets DESC\n",
    "LIMIT 3\n",
    "\"\"\"\n",
    ").show()"
   ]
  },
  {
   "cell_type": "code",
   "execution_count": 30,
   "metadata": {
    "execution": {
     "iopub.execute_input": "2023-03-30T10:29:10.261060Z",
     "iopub.status.busy": "2023-03-30T10:29:10.260685Z",
     "iopub.status.idle": "2023-03-30T10:29:56.439096Z",
     "shell.execute_reply": "2023-03-30T10:29:56.437862Z",
     "shell.execute_reply.started": "2023-03-30T10:29:10.261021Z"
    },
    "tags": []
   },
   "outputs": [
    {
     "data": {
      "application/vnd.jupyter.widget-view+json": {
       "model_id": "d92bfe58b1a7451b95dc3cdd8592fab7",
       "version_major": 2,
       "version_minor": 0
      },
      "text/plain": [
       "VBox()"
      ]
     },
     "metadata": {},
     "output_type": "display_data"
    },
    {
     "data": {
      "application/vnd.jupyter.widget-view+json": {
       "model_id": "",
       "version_major": 2,
       "version_minor": 0
      },
      "text/plain": [
       "FloatProgress(value=0.0, bar_style='info', description='Progress:', layout=Layout(height='25px', width='50%'),…"
      ]
     },
     "metadata": {},
     "output_type": "display_data"
    },
    {
     "name": "stdout",
     "output_type": "stream",
     "text": [
      "+------+--------------+-------------+\n",
      "|season|Violation Code|No_of_tickets|\n",
      "+------+--------------+-------------+\n",
      "|winter|            21|       238183|\n",
      "|winter|            36|       221268|\n",
      "|winter|            38|       187386|\n",
      "+------+--------------+-------------+"
     ]
    }
   ],
   "source": [
    "#Winter\n",
    "spark.sql(\n",
    "\"\"\"\n",
    "SELECT season, `Violation Code`, count(*) as No_of_tickets\n",
    "FROM seasonal_data\n",
    "WHERE season = 'winter'\n",
    "GROUP BY season, `Violation Code`\n",
    "ORDER BY No_of_tickets DESC\n",
    "LIMIT 3\n",
    "\"\"\"\n",
    ").show()"
   ]
  },
  {
   "cell_type": "code",
   "execution_count": 31,
   "metadata": {
    "execution": {
     "iopub.execute_input": "2023-03-30T10:29:56.441095Z",
     "iopub.status.busy": "2023-03-30T10:29:56.440585Z",
     "iopub.status.idle": "2023-03-30T10:30:36.889837Z",
     "shell.execute_reply": "2023-03-30T10:30:36.888410Z",
     "shell.execute_reply.started": "2023-03-30T10:29:56.441054Z"
    },
    "tags": []
   },
   "outputs": [
    {
     "data": {
      "application/vnd.jupyter.widget-view+json": {
       "model_id": "a335e7697c58409e89dee4d048231bc1",
       "version_major": 2,
       "version_minor": 0
      },
      "text/plain": [
       "VBox()"
      ]
     },
     "metadata": {},
     "output_type": "display_data"
    },
    {
     "data": {
      "application/vnd.jupyter.widget-view+json": {
       "model_id": "",
       "version_major": 2,
       "version_minor": 0
      },
      "text/plain": [
       "FloatProgress(value=0.0, bar_style='info', description='Progress:', layout=Layout(height='25px', width='50%'),…"
      ]
     },
     "metadata": {},
     "output_type": "display_data"
    },
    {
     "name": "stdout",
     "output_type": "stream",
     "text": [
      "+------+--------------+-------------+\n",
      "|season|Violation Code|No_of_tickets|\n",
      "+------+--------------+-------------+\n",
      "|summer|            21|       127352|\n",
      "|summer|            36|        96663|\n",
      "|summer|            38|        83518|\n",
      "+------+--------------+-------------+"
     ]
    }
   ],
   "source": [
    "#Summer\n",
    "spark.sql(\n",
    "\"\"\"\n",
    "SELECT season, `Violation Code`, count(*) as No_of_tickets\n",
    "FROM seasonal_data\n",
    "WHERE season = 'summer'\n",
    "GROUP BY season, `Violation Code`\n",
    "ORDER BY No_of_tickets DESC\n",
    "LIMIT 3\n",
    "\"\"\"\n",
    ").show()"
   ]
  },
  {
   "cell_type": "code",
   "execution_count": 32,
   "metadata": {
    "execution": {
     "iopub.execute_input": "2023-03-30T10:30:36.903277Z",
     "iopub.status.busy": "2023-03-30T10:30:36.902795Z",
     "iopub.status.idle": "2023-03-30T10:31:27.346336Z",
     "shell.execute_reply": "2023-03-30T10:31:27.345003Z",
     "shell.execute_reply.started": "2023-03-30T10:30:36.903233Z"
    },
    "tags": []
   },
   "outputs": [
    {
     "data": {
      "application/vnd.jupyter.widget-view+json": {
       "model_id": "58cbf4fe6181443d8131030d5d3db9de",
       "version_major": 2,
       "version_minor": 0
      },
      "text/plain": [
       "VBox()"
      ]
     },
     "metadata": {},
     "output_type": "display_data"
    },
    {
     "data": {
      "application/vnd.jupyter.widget-view+json": {
       "model_id": "",
       "version_major": 2,
       "version_minor": 0
      },
      "text/plain": [
       "FloatProgress(value=0.0, bar_style='info', description='Progress:', layout=Layout(height='25px', width='50%'),…"
      ]
     },
     "metadata": {},
     "output_type": "display_data"
    },
    {
     "name": "stdout",
     "output_type": "stream",
     "text": [
      "+------+--------------+-------------+\n",
      "|season|Violation Code|No_of_tickets|\n",
      "+------+--------------+-------------+\n",
      "|autumn|            46|          231|\n",
      "|autumn|            21|          128|\n",
      "|autumn|            40|          116|\n",
      "+------+--------------+-------------+"
     ]
    }
   ],
   "source": [
    "#Autumn\n",
    "spark.sql(\n",
    "\"\"\"\n",
    "SELECT season, `Violation Code`, count(*) as No_of_tickets\n",
    "FROM seasonal_data\n",
    "WHERE season = 'autumn'\n",
    "GROUP BY season, `Violation Code`\n",
    "ORDER BY No_of_tickets DESC\n",
    "LIMIT 3\n",
    "\"\"\"\n",
    ").show()"
   ]
  },
  {
   "cell_type": "code",
   "execution_count": 34,
   "metadata": {
    "execution": {
     "iopub.execute_input": "2023-03-30T10:38:51.398904Z",
     "iopub.status.busy": "2023-03-30T10:38:51.391013Z",
     "iopub.status.idle": "2023-03-30T10:39:47.889769Z",
     "shell.execute_reply": "2023-03-30T10:39:47.888299Z",
     "shell.execute_reply.started": "2023-03-30T10:38:51.398840Z"
    },
    "tags": []
   },
   "outputs": [
    {
     "data": {
      "application/vnd.jupyter.widget-view+json": {
       "model_id": "4aabe7c6e7824ac3916c5ef031a76380",
       "version_major": 2,
       "version_minor": 0
      },
      "text/plain": [
       "VBox()"
      ]
     },
     "metadata": {},
     "output_type": "display_data"
    },
    {
     "data": {
      "application/vnd.jupyter.widget-view+json": {
       "model_id": "",
       "version_major": 2,
       "version_minor": 0
      },
      "text/plain": [
       "FloatProgress(value=0.0, bar_style='info', description='Progress:', layout=Layout(height='25px', width='50%'),…"
      ]
     },
     "metadata": {},
     "output_type": "display_data"
    },
    {
     "name": "stdout",
     "output_type": "stream",
     "text": [
      "+--------------+-------------+\n",
      "|Violation Code|no_of_tickets|\n",
      "+--------------+-------------+\n",
      "|            21|       768087|\n",
      "|            36|       662765|\n",
      "|            38|       542079|\n",
      "+--------------+-------------+"
     ]
    }
   ],
   "source": [
    "## Total occurrences of the 3 most common violation codes\n",
    "spark.sql(\"select `Violation Code`, count(*) as `no_of_tickets`\\\n",
    "                    from data_2017_new\\\n",
    "                    group by `Violation Code`\\\n",
    "                    order by `no_of_tickets` desc\\\n",
    "                    limit 3\").show()"
   ]
  },
  {
   "cell_type": "code",
   "execution_count": 35,
   "metadata": {
    "execution": {
     "iopub.execute_input": "2023-03-30T10:41:23.665068Z",
     "iopub.status.busy": "2023-03-30T10:41:23.664647Z",
     "iopub.status.idle": "2023-03-30T10:42:20.107970Z",
     "shell.execute_reply": "2023-03-30T10:42:20.106981Z",
     "shell.execute_reply.started": "2023-03-30T10:41:23.665037Z"
    },
    "tags": []
   },
   "outputs": [
    {
     "data": {
      "application/vnd.jupyter.widget-view+json": {
       "model_id": "cc7570cdf3f34ebd8fd92c90a3fb6d02",
       "version_major": 2,
       "version_minor": 0
      },
      "text/plain": [
       "VBox()"
      ]
     },
     "metadata": {},
     "output_type": "display_data"
    },
    {
     "data": {
      "application/vnd.jupyter.widget-view+json": {
       "model_id": "",
       "version_major": 2,
       "version_minor": 0
      },
      "text/plain": [
       "FloatProgress(value=0.0, bar_style='info', description='Progress:', layout=Layout(height='25px', width='50%'),…"
      ]
     },
     "metadata": {},
     "output_type": "display_data"
    },
    {
     "name": "stdout",
     "output_type": "stream",
     "text": [
      "+--------------+-----------------+\n",
      "|Violation Code|Fine_Amount_Total|\n",
      "+--------------+-----------------+\n",
      "|            21|         49925655|\n",
      "|            36|         33138250|\n",
      "|            38|         27103950|\n",
      "+--------------+-----------------+"
     ]
    }
   ],
   "source": [
    "#Calculating Fine\n",
    "from pyspark.sql.functions import *\n",
    "tickets_2017_new = tickets_2017_new.withColumn('Fine Amount', when(tickets_2017_new[\"Violation Code\"]==21, 65) \\\n",
    "                                               .otherwise(when(tickets_2017_new[\"Violation Code\"]==36,50) \\\n",
    "                                                          .otherwise(when(tickets_2017_new[\"Violation Code\"]==38,50) \\\n",
    "                                                                     .otherwise(0))))\n",
    "tickets_2017_new.createOrReplaceTempView(\"new_data_2017\")\n",
    "spark.sql(\"\"\"\n",
    "SELECT `Violation Code`, SUM(`Fine Amount`) AS Fine_Amount_Total\n",
    "FROM new_data_2017 \\\n",
    "GROUP BY `Violation Code` \\\n",
    "ORDER BY Fine_Amount_Total DESC\n",
    "LIMIT 3\n",
    "\"\"\").show()"
   ]
  },
  {
   "cell_type": "code",
   "execution_count": 36,
   "metadata": {
    "execution": {
     "iopub.execute_input": "2023-03-30T10:43:09.367551Z",
     "iopub.status.busy": "2023-03-30T10:43:09.367214Z",
     "iopub.status.idle": "2023-03-30T10:43:49.572818Z",
     "shell.execute_reply": "2023-03-30T10:43:49.571557Z",
     "shell.execute_reply.started": "2023-03-30T10:43:09.367523Z"
    }
   },
   "outputs": [
    {
     "data": {
      "application/vnd.jupyter.widget-view+json": {
       "model_id": "0009724b05194f76a1a6870149f40d50",
       "version_major": 2,
       "version_minor": 0
      },
      "text/plain": [
       "VBox()"
      ]
     },
     "metadata": {},
     "output_type": "display_data"
    },
    {
     "data": {
      "application/vnd.jupyter.widget-view+json": {
       "model_id": "",
       "version_major": 2,
       "version_minor": 0
      },
      "text/plain": [
       "FloatProgress(value=0.0, bar_style='info', description='Progress:', layout=Layout(height='25px', width='50%'),…"
      ]
     },
     "metadata": {},
     "output_type": "display_data"
    },
    {
     "name": "stdout",
     "output_type": "stream",
     "text": [
      "+------------------+-----------------+\n",
      "|Registration State|Fine_Amount_Total|\n",
      "+------------------+-----------------+\n",
      "|                NY|         87901590|\n",
      "|                NJ|          7368020|\n",
      "|                PA|          3413995|\n",
      "+------------------+-----------------+"
     ]
    }
   ],
   "source": [
    "spark.sql(\"\"\"\n",
    "SELECT `Registration State`, SUM(`Fine Amount`) AS Fine_Amount_Total\n",
    "FROM new_data_2017 \\\n",
    "GROUP BY `Registration State` \\\n",
    "ORDER BY Fine_Amount_Total DESC\n",
    "LIMIT 3\n",
    "\"\"\").show()"
   ]
  },
  {
   "cell_type": "raw",
   "metadata": {},
   "source": [
    "# What can you intuitively infer from these findings?\n",
    "\n",
    "1. Most Violations occurred in Spring and least in Autumn.\n",
    "2. Street Cleaning violations occurred the most, i.e., 21.\n",
    "3. The fine amount collected is highest for violation code 21.\n",
    "4. The fine amount collected is the largest for the state of NY."
   ]
  }
 ],
 "metadata": {
  "kernelspec": {
   "display_name": "PySpark",
   "language": "",
   "name": "pysparkkernel"
  },
  "language_info": {
   "codemirror_mode": {
    "name": "python",
    "version": 2
   },
   "mimetype": "text/x-python",
   "name": "pyspark",
   "pygments_lexer": "python2"
  }
 },
 "nbformat": 4,
 "nbformat_minor": 4
}
